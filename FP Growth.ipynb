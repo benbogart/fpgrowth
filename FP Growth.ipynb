{
 "cells": [
  {
   "cell_type": "markdown",
   "id": "7daec677",
   "metadata": {},
   "source": [
    "This"
   ]
  },
  {
   "cell_type": "code",
   "execution_count": 1,
   "id": "2350cc9f",
   "metadata": {},
   "outputs": [],
   "source": [
    "import pandas as pd"
   ]
  },
  {
   "cell_type": "code",
   "execution_count": null,
   "id": "cba8ce7c",
   "metadata": {},
   "outputs": [],
   "source": [
    "df = pd.read_excel('Online Retail.xlsx')"
   ]
  },
  {
   "cell_type": "code",
   "execution_count": null,
   "id": "52f6ef8d",
   "metadata": {},
   "outputs": [],
   "source": [
    "df.head()"
   ]
  },
  {
   "cell_type": "markdown",
   "id": "4c81b62d",
   "metadata": {},
   "source": [
    "Because our goal is to recommend products purchased together by examining the frequency by which different items are purchased together we only need information that identifies individual orders and individual products.  Because it will be more convenient for display purposes we will also use the Description.  We don't need the rest of the columns for this project.\n",
    "\n",
    "We will keep two DataFrames for this.\n",
    "\n",
    "One for Building the recommendation system with the following features:\n",
    "- `InvoiceNo`\n",
    "- `StockCode`\n",
    "\n",
    "And one for matching the description to the `StockCode`:\n",
    "- `StockCode`\n",
    "- `Description`\n",
    "\n"
   ]
  },
  {
   "cell_type": "code",
   "execution_count": 89,
   "id": "996696ec",
   "metadata": {},
   "outputs": [],
   "source": [
    "# Modify StockCode to always be a string\n",
    "\n",
    "# Prepend '_' to StockCode\n",
    "df['StockCode'] = df['StockCode'].apply(lambda x: '_'+str(x))"
   ]
  },
  {
   "cell_type": "code",
   "execution_count": 91,
   "id": "7d543b15",
   "metadata": {},
   "outputs": [
    {
     "data": {
      "text/html": [
       "<div>\n",
       "<style scoped>\n",
       "    .dataframe tbody tr th:only-of-type {\n",
       "        vertical-align: middle;\n",
       "    }\n",
       "\n",
       "    .dataframe tbody tr th {\n",
       "        vertical-align: top;\n",
       "    }\n",
       "\n",
       "    .dataframe thead th {\n",
       "        text-align: right;\n",
       "    }\n",
       "</style>\n",
       "<table border=\"1\" class=\"dataframe\">\n",
       "  <thead>\n",
       "    <tr style=\"text-align: right;\">\n",
       "      <th></th>\n",
       "      <th>InvoiceNo</th>\n",
       "      <th>StockCode</th>\n",
       "    </tr>\n",
       "  </thead>\n",
       "  <tbody>\n",
       "    <tr>\n",
       "      <th>0</th>\n",
       "      <td>536365</td>\n",
       "      <td>_85123A</td>\n",
       "    </tr>\n",
       "    <tr>\n",
       "      <th>1</th>\n",
       "      <td>536365</td>\n",
       "      <td>_71053</td>\n",
       "    </tr>\n",
       "    <tr>\n",
       "      <th>2</th>\n",
       "      <td>536365</td>\n",
       "      <td>_84406B</td>\n",
       "    </tr>\n",
       "    <tr>\n",
       "      <th>3</th>\n",
       "      <td>536365</td>\n",
       "      <td>_84029G</td>\n",
       "    </tr>\n",
       "    <tr>\n",
       "      <th>4</th>\n",
       "      <td>536365</td>\n",
       "      <td>_84029E</td>\n",
       "    </tr>\n",
       "  </tbody>\n",
       "</table>\n",
       "</div>"
      ],
      "text/plain": [
       "  InvoiceNo StockCode\n",
       "0    536365   _85123A\n",
       "1    536365    _71053\n",
       "2    536365   _84406B\n",
       "3    536365   _84029G\n",
       "4    536365   _84029E"
      ]
     },
     "execution_count": 91,
     "metadata": {},
     "output_type": "execute_result"
    }
   ],
   "source": [
    "# DataFrame for building the recommendation system\n",
    "orders = df[['InvoiceNo', 'StockCode']]\n",
    "orders.head()"
   ]
  },
  {
   "cell_type": "code",
   "execution_count": null,
   "id": "d5ac5eeb",
   "metadata": {},
   "outputs": [],
   "source": []
  },
  {
   "cell_type": "code",
   "execution_count": 418,
   "id": "4f3fae94",
   "metadata": {},
   "outputs": [
    {
     "data": {
      "text/html": [
       "<div>\n",
       "<style scoped>\n",
       "    .dataframe tbody tr th:only-of-type {\n",
       "        vertical-align: middle;\n",
       "    }\n",
       "\n",
       "    .dataframe tbody tr th {\n",
       "        vertical-align: top;\n",
       "    }\n",
       "\n",
       "    .dataframe thead th {\n",
       "        text-align: right;\n",
       "    }\n",
       "</style>\n",
       "<table border=\"1\" class=\"dataframe\">\n",
       "  <thead>\n",
       "    <tr style=\"text-align: right;\">\n",
       "      <th></th>\n",
       "      <th>StockCode</th>\n",
       "      <th>Description</th>\n",
       "    </tr>\n",
       "  </thead>\n",
       "  <tbody>\n",
       "    <tr>\n",
       "      <th>0</th>\n",
       "      <td>_85123A</td>\n",
       "      <td>WHITE HANGING HEART T-LIGHT HOLDER</td>\n",
       "    </tr>\n",
       "    <tr>\n",
       "      <th>1</th>\n",
       "      <td>_71053</td>\n",
       "      <td>WHITE METAL LANTERN</td>\n",
       "    </tr>\n",
       "    <tr>\n",
       "      <th>2</th>\n",
       "      <td>_84406B</td>\n",
       "      <td>CREAM CUPID HEARTS COAT HANGER</td>\n",
       "    </tr>\n",
       "    <tr>\n",
       "      <th>3</th>\n",
       "      <td>_84029G</td>\n",
       "      <td>KNITTED UNION FLAG HOT WATER BOTTLE</td>\n",
       "    </tr>\n",
       "    <tr>\n",
       "      <th>4</th>\n",
       "      <td>_84029E</td>\n",
       "      <td>RED WOOLLY HOTTIE WHITE HEART.</td>\n",
       "    </tr>\n",
       "  </tbody>\n",
       "</table>\n",
       "</div>"
      ],
      "text/plain": [
       "  StockCode                          Description\n",
       "0   _85123A   WHITE HANGING HEART T-LIGHT HOLDER\n",
       "1    _71053                  WHITE METAL LANTERN\n",
       "2   _84406B       CREAM CUPID HEARTS COAT HANGER\n",
       "3   _84029G  KNITTED UNION FLAG HOT WATER BOTTLE\n",
       "4   _84029E       RED WOOLLY HOTTIE WHITE HEART."
      ]
     },
     "execution_count": 418,
     "metadata": {},
     "output_type": "execute_result"
    }
   ],
   "source": [
    "# DataFrame for retrieving product descriptions\n",
    "products = df[['StockCode', 'Description']].copy()\n",
    "products.head()"
   ]
  },
  {
   "cell_type": "code",
   "execution_count": 419,
   "id": "9c6d2634",
   "metadata": {},
   "outputs": [],
   "source": [
    "products['StockCode'] = products['StockCode'].str.upper()"
   ]
  },
  {
   "cell_type": "code",
   "execution_count": 420,
   "id": "a538acac",
   "metadata": {},
   "outputs": [
    {
     "data": {
      "text/html": [
       "<div>\n",
       "<style scoped>\n",
       "    .dataframe tbody tr th:only-of-type {\n",
       "        vertical-align: middle;\n",
       "    }\n",
       "\n",
       "    .dataframe tbody tr th {\n",
       "        vertical-align: top;\n",
       "    }\n",
       "\n",
       "    .dataframe thead th {\n",
       "        text-align: right;\n",
       "    }\n",
       "</style>\n",
       "<table border=\"1\" class=\"dataframe\">\n",
       "  <thead>\n",
       "    <tr style=\"text-align: right;\">\n",
       "      <th></th>\n",
       "      <th>StockCode</th>\n",
       "      <th>Description</th>\n",
       "    </tr>\n",
       "  </thead>\n",
       "  <tbody>\n",
       "    <tr>\n",
       "      <th>0</th>\n",
       "      <td>_85123A</td>\n",
       "      <td>WHITE HANGING HEART T-LIGHT HOLDER</td>\n",
       "    </tr>\n",
       "    <tr>\n",
       "      <th>1</th>\n",
       "      <td>_71053</td>\n",
       "      <td>WHITE METAL LANTERN</td>\n",
       "    </tr>\n",
       "    <tr>\n",
       "      <th>2</th>\n",
       "      <td>_84406B</td>\n",
       "      <td>CREAM CUPID HEARTS COAT HANGER</td>\n",
       "    </tr>\n",
       "    <tr>\n",
       "      <th>3</th>\n",
       "      <td>_84029G</td>\n",
       "      <td>KNITTED UNION FLAG HOT WATER BOTTLE</td>\n",
       "    </tr>\n",
       "    <tr>\n",
       "      <th>4</th>\n",
       "      <td>_84029E</td>\n",
       "      <td>RED WOOLLY HOTTIE WHITE HEART.</td>\n",
       "    </tr>\n",
       "  </tbody>\n",
       "</table>\n",
       "</div>"
      ],
      "text/plain": [
       "  StockCode                          Description\n",
       "0   _85123A   WHITE HANGING HEART T-LIGHT HOLDER\n",
       "1    _71053                  WHITE METAL LANTERN\n",
       "2   _84406B       CREAM CUPID HEARTS COAT HANGER\n",
       "3   _84029G  KNITTED UNION FLAG HOT WATER BOTTLE\n",
       "4   _84029E       RED WOOLLY HOTTIE WHITE HEART."
      ]
     },
     "execution_count": 420,
     "metadata": {},
     "output_type": "execute_result"
    }
   ],
   "source": [
    "products = products[~products.duplicated()]\n",
    "products.head()"
   ]
  },
  {
   "cell_type": "code",
   "execution_count": 421,
   "id": "c67d58a8",
   "metadata": {},
   "outputs": [
    {
     "data": {
      "text/html": [
       "<div>\n",
       "<style scoped>\n",
       "    .dataframe tbody tr th:only-of-type {\n",
       "        vertical-align: middle;\n",
       "    }\n",
       "\n",
       "    .dataframe tbody tr th {\n",
       "        vertical-align: top;\n",
       "    }\n",
       "\n",
       "    .dataframe thead th {\n",
       "        text-align: right;\n",
       "    }\n",
       "</style>\n",
       "<table border=\"1\" class=\"dataframe\">\n",
       "  <thead>\n",
       "    <tr style=\"text-align: right;\">\n",
       "      <th></th>\n",
       "      <th>StockCode</th>\n",
       "      <th>Description</th>\n",
       "    </tr>\n",
       "  </thead>\n",
       "  <tbody>\n",
       "    <tr>\n",
       "      <th>218408</th>\n",
       "      <td>_23236</td>\n",
       "      <td>DOILEY STORAGE TIN</td>\n",
       "    </tr>\n",
       "    <tr>\n",
       "      <th>220496</th>\n",
       "      <td>_23236</td>\n",
       "      <td>DOILEY BISCUIT TIN</td>\n",
       "    </tr>\n",
       "    <tr>\n",
       "      <th>290770</th>\n",
       "      <td>_23236</td>\n",
       "      <td>STORAGE TIN VINTAGE DOILEY</td>\n",
       "    </tr>\n",
       "    <tr>\n",
       "      <th>292790</th>\n",
       "      <td>_23236</td>\n",
       "      <td>STORAGE TIN VINTAGE DOILY</td>\n",
       "    </tr>\n",
       "  </tbody>\n",
       "</table>\n",
       "</div>"
      ],
      "text/plain": [
       "       StockCode                  Description\n",
       "218408    _23236           DOILEY STORAGE TIN\n",
       "220496    _23236           DOILEY BISCUIT TIN\n",
       "290770    _23236  STORAGE TIN VINTAGE DOILEY \n",
       "292790    _23236   STORAGE TIN VINTAGE DOILY "
      ]
     },
     "execution_count": 421,
     "metadata": {},
     "output_type": "execute_result"
    }
   ],
   "source": [
    "products[products['StockCode'] == '_23236']"
   ]
  },
  {
   "cell_type": "code",
   "execution_count": 422,
   "id": "35dd72ea",
   "metadata": {},
   "outputs": [],
   "source": [
    "# Drop descriptions that are not uppercase\n",
    "products = products[\n",
    "    products['Description'].str.upper() == products['Description']\n",
    "]"
   ]
  },
  {
   "cell_type": "code",
   "execution_count": 423,
   "id": "4cd1dae3",
   "metadata": {},
   "outputs": [
    {
     "data": {
      "text/html": [
       "<div>\n",
       "<style scoped>\n",
       "    .dataframe tbody tr th:only-of-type {\n",
       "        vertical-align: middle;\n",
       "    }\n",
       "\n",
       "    .dataframe tbody tr th {\n",
       "        vertical-align: top;\n",
       "    }\n",
       "\n",
       "    .dataframe thead th {\n",
       "        text-align: right;\n",
       "    }\n",
       "</style>\n",
       "<table border=\"1\" class=\"dataframe\">\n",
       "  <thead>\n",
       "    <tr style=\"text-align: right;\">\n",
       "      <th></th>\n",
       "      <th>StockCode</th>\n",
       "      <th>Description</th>\n",
       "    </tr>\n",
       "  </thead>\n",
       "  <tbody>\n",
       "    <tr>\n",
       "      <th>0</th>\n",
       "      <td>_85123A</td>\n",
       "      <td>WHITE HANGING HEART T-LIGHT HOLDER</td>\n",
       "    </tr>\n",
       "    <tr>\n",
       "      <th>1</th>\n",
       "      <td>_71053</td>\n",
       "      <td>WHITE METAL LANTERN</td>\n",
       "    </tr>\n",
       "    <tr>\n",
       "      <th>2</th>\n",
       "      <td>_84406B</td>\n",
       "      <td>CREAM CUPID HEARTS COAT HANGER</td>\n",
       "    </tr>\n",
       "    <tr>\n",
       "      <th>3</th>\n",
       "      <td>_84029G</td>\n",
       "      <td>KNITTED UNION FLAG HOT WATER BOTTLE</td>\n",
       "    </tr>\n",
       "    <tr>\n",
       "      <th>4</th>\n",
       "      <td>_84029E</td>\n",
       "      <td>RED WOOLLY HOTTIE WHITE HEART.</td>\n",
       "    </tr>\n",
       "    <tr>\n",
       "      <th>...</th>\n",
       "      <td>...</td>\n",
       "      <td>...</td>\n",
       "    </tr>\n",
       "    <tr>\n",
       "      <th>504104</th>\n",
       "      <td>_23561</td>\n",
       "      <td>SET OF 6 RIBBONS PARTY</td>\n",
       "    </tr>\n",
       "    <tr>\n",
       "      <th>507867</th>\n",
       "      <td>_23609</td>\n",
       "      <td>SET 10 CARDS SNOWY ROBIN 17099</td>\n",
       "    </tr>\n",
       "    <tr>\n",
       "      <th>512588</th>\n",
       "      <td>_23617</td>\n",
       "      <td>SET 10 CARDS SWIRLY XMAS TREE 17104</td>\n",
       "    </tr>\n",
       "    <tr>\n",
       "      <th>527065</th>\n",
       "      <td>_90214U</td>\n",
       "      <td>LETTER \"U\" BLING KEY RING</td>\n",
       "    </tr>\n",
       "    <tr>\n",
       "      <th>540421</th>\n",
       "      <td>_23843</td>\n",
       "      <td>PAPER CRAFT , LITTLE BIRDIE</td>\n",
       "    </tr>\n",
       "  </tbody>\n",
       "</table>\n",
       "<p>3796 rows × 2 columns</p>\n",
       "</div>"
      ],
      "text/plain": [
       "       StockCode                          Description\n",
       "0        _85123A   WHITE HANGING HEART T-LIGHT HOLDER\n",
       "1         _71053                  WHITE METAL LANTERN\n",
       "2        _84406B       CREAM CUPID HEARTS COAT HANGER\n",
       "3        _84029G  KNITTED UNION FLAG HOT WATER BOTTLE\n",
       "4        _84029E       RED WOOLLY HOTTIE WHITE HEART.\n",
       "...          ...                                  ...\n",
       "504104    _23561               SET OF 6 RIBBONS PARTY\n",
       "507867    _23609       SET 10 CARDS SNOWY ROBIN 17099\n",
       "512588    _23617  SET 10 CARDS SWIRLY XMAS TREE 17104\n",
       "527065   _90214U            LETTER \"U\" BLING KEY RING\n",
       "540421    _23843          PAPER CRAFT , LITTLE BIRDIE\n",
       "\n",
       "[3796 rows x 2 columns]"
      ]
     },
     "execution_count": 423,
     "metadata": {},
     "output_type": "execute_result"
    }
   ],
   "source": [
    "# Keep only the first Description of each product\n",
    "products = products[~products.duplicated(subset=['StockCode'])]\n",
    "products"
   ]
  },
  {
   "cell_type": "code",
   "execution_count": 424,
   "id": "7cc6f1df",
   "metadata": {},
   "outputs": [],
   "source": [
    "# Set the index to StockCode\n",
    "products = products.set_index('StockCode')\n",
    "\n",
    "# Convert to Series for eve easier lookups\n",
    "products = products['Description']"
   ]
  },
  {
   "cell_type": "code",
   "execution_count": 425,
   "id": "8d924065",
   "metadata": {},
   "outputs": [
    {
     "data": {
      "text/plain": [
       "'LOVE BUILDING BLOCK WORD'"
      ]
     },
     "execution_count": 425,
     "metadata": {},
     "output_type": "execute_result"
    }
   ],
   "source": [
    "# Test it out\n",
    "products['_21755']"
   ]
  },
  {
   "cell_type": "code",
   "execution_count": 426,
   "id": "8c8630f6",
   "metadata": {},
   "outputs": [
    {
     "data": {
      "text/plain": [
       "3796"
      ]
     },
     "execution_count": 426,
     "metadata": {},
     "output_type": "execute_result"
    }
   ],
   "source": [
    "# Number of unique products\n",
    "len(products)"
   ]
  },
  {
   "cell_type": "markdown",
   "id": "dc326bcb",
   "metadata": {},
   "source": [
    "# Number of orders"
   ]
  },
  {
   "cell_type": "code",
   "execution_count": 192,
   "id": "53609d92",
   "metadata": {},
   "outputs": [
    {
     "data": {
      "text/html": [
       "<div>\n",
       "<style scoped>\n",
       "    .dataframe tbody tr th:only-of-type {\n",
       "        vertical-align: middle;\n",
       "    }\n",
       "\n",
       "    .dataframe tbody tr th {\n",
       "        vertical-align: top;\n",
       "    }\n",
       "\n",
       "    .dataframe thead th {\n",
       "        text-align: right;\n",
       "    }\n",
       "</style>\n",
       "<table border=\"1\" class=\"dataframe\">\n",
       "  <thead>\n",
       "    <tr style=\"text-align: right;\">\n",
       "      <th></th>\n",
       "      <th>InvoiceNo</th>\n",
       "      <th>StockCode</th>\n",
       "    </tr>\n",
       "  </thead>\n",
       "  <tbody>\n",
       "    <tr>\n",
       "      <th>0</th>\n",
       "      <td>536365</td>\n",
       "      <td>[_85123A, _71053, _84406B, _84029G, _84029E, _...</td>\n",
       "    </tr>\n",
       "    <tr>\n",
       "      <th>1</th>\n",
       "      <td>536366</td>\n",
       "      <td>[_22633, _22632]</td>\n",
       "    </tr>\n",
       "    <tr>\n",
       "      <th>2</th>\n",
       "      <td>536367</td>\n",
       "      <td>[_84879, _22745, _22748, _22749, _22310, _8496...</td>\n",
       "    </tr>\n",
       "    <tr>\n",
       "      <th>3</th>\n",
       "      <td>536368</td>\n",
       "      <td>[_22960, _22913, _22912, _22914]</td>\n",
       "    </tr>\n",
       "    <tr>\n",
       "      <th>4</th>\n",
       "      <td>536369</td>\n",
       "      <td>[_21756]</td>\n",
       "    </tr>\n",
       "    <tr>\n",
       "      <th>...</th>\n",
       "      <td>...</td>\n",
       "      <td>...</td>\n",
       "    </tr>\n",
       "    <tr>\n",
       "      <th>25895</th>\n",
       "      <td>C581484</td>\n",
       "      <td>[_23843]</td>\n",
       "    </tr>\n",
       "    <tr>\n",
       "      <th>25896</th>\n",
       "      <td>C581490</td>\n",
       "      <td>[_22178, _23144]</td>\n",
       "    </tr>\n",
       "    <tr>\n",
       "      <th>25897</th>\n",
       "      <td>C581499</td>\n",
       "      <td>[_M]</td>\n",
       "    </tr>\n",
       "    <tr>\n",
       "      <th>25898</th>\n",
       "      <td>C581568</td>\n",
       "      <td>[_21258]</td>\n",
       "    </tr>\n",
       "    <tr>\n",
       "      <th>25899</th>\n",
       "      <td>C581569</td>\n",
       "      <td>[_84978, _20979]</td>\n",
       "    </tr>\n",
       "  </tbody>\n",
       "</table>\n",
       "<p>25900 rows × 2 columns</p>\n",
       "</div>"
      ],
      "text/plain": [
       "      InvoiceNo                                          StockCode\n",
       "0        536365  [_85123A, _71053, _84406B, _84029G, _84029E, _...\n",
       "1        536366                                   [_22633, _22632]\n",
       "2        536367  [_84879, _22745, _22748, _22749, _22310, _8496...\n",
       "3        536368                   [_22960, _22913, _22912, _22914]\n",
       "4        536369                                           [_21756]\n",
       "...         ...                                                ...\n",
       "25895   C581484                                           [_23843]\n",
       "25896   C581490                                   [_22178, _23144]\n",
       "25897   C581499                                               [_M]\n",
       "25898   C581568                                           [_21258]\n",
       "25899   C581569                                   [_84978, _20979]\n",
       "\n",
       "[25900 rows x 2 columns]"
      ]
     },
     "execution_count": 192,
     "metadata": {},
     "output_type": "execute_result"
    }
   ],
   "source": [
    "orders"
   ]
  },
  {
   "cell_type": "code",
   "execution_count": 188,
   "id": "be327590",
   "metadata": {},
   "outputs": [
    {
     "data": {
      "text/plain": [
       "25900"
      ]
     },
     "execution_count": 188,
     "metadata": {},
     "output_type": "execute_result"
    }
   ],
   "source": [
    "# total number of orders\n",
    "orders['InvoiceNo'].nunique()"
   ]
  },
  {
   "cell_type": "code",
   "execution_count": 190,
   "id": "d1b50ea1",
   "metadata": {},
   "outputs": [
    {
     "data": {
      "text/html": [
       "<div>\n",
       "<style scoped>\n",
       "    .dataframe tbody tr th:only-of-type {\n",
       "        vertical-align: middle;\n",
       "    }\n",
       "\n",
       "    .dataframe tbody tr th {\n",
       "        vertical-align: top;\n",
       "    }\n",
       "\n",
       "    .dataframe thead th {\n",
       "        text-align: right;\n",
       "    }\n",
       "</style>\n",
       "<table border=\"1\" class=\"dataframe\">\n",
       "  <thead>\n",
       "    <tr style=\"text-align: right;\">\n",
       "      <th></th>\n",
       "      <th>Count</th>\n",
       "    </tr>\n",
       "    <tr>\n",
       "      <th>InvoiceNo</th>\n",
       "      <th></th>\n",
       "    </tr>\n",
       "  </thead>\n",
       "  <tbody>\n",
       "    <tr>\n",
       "      <th>536365</th>\n",
       "      <td>1</td>\n",
       "    </tr>\n",
       "    <tr>\n",
       "      <th>536366</th>\n",
       "      <td>1</td>\n",
       "    </tr>\n",
       "    <tr>\n",
       "      <th>536367</th>\n",
       "      <td>1</td>\n",
       "    </tr>\n",
       "    <tr>\n",
       "      <th>536368</th>\n",
       "      <td>1</td>\n",
       "    </tr>\n",
       "    <tr>\n",
       "      <th>536369</th>\n",
       "      <td>1</td>\n",
       "    </tr>\n",
       "    <tr>\n",
       "      <th>...</th>\n",
       "      <td>...</td>\n",
       "    </tr>\n",
       "    <tr>\n",
       "      <th>C581484</th>\n",
       "      <td>1</td>\n",
       "    </tr>\n",
       "    <tr>\n",
       "      <th>C581490</th>\n",
       "      <td>1</td>\n",
       "    </tr>\n",
       "    <tr>\n",
       "      <th>C581499</th>\n",
       "      <td>1</td>\n",
       "    </tr>\n",
       "    <tr>\n",
       "      <th>C581568</th>\n",
       "      <td>1</td>\n",
       "    </tr>\n",
       "    <tr>\n",
       "      <th>C581569</th>\n",
       "      <td>1</td>\n",
       "    </tr>\n",
       "  </tbody>\n",
       "</table>\n",
       "<p>25900 rows × 1 columns</p>\n",
       "</div>"
      ],
      "text/plain": [
       "           Count\n",
       "InvoiceNo       \n",
       "536365         1\n",
       "536366         1\n",
       "536367         1\n",
       "536368         1\n",
       "536369         1\n",
       "...          ...\n",
       "C581484        1\n",
       "C581490        1\n",
       "C581499        1\n",
       "C581568        1\n",
       "C581569        1\n",
       "\n",
       "[25900 rows x 1 columns]"
      ]
     },
     "execution_count": 190,
     "metadata": {},
     "output_type": "execute_result"
    }
   ],
   "source": [
    "# orders with more than one item\n",
    "num_items_in_order = orders.groupby('InvoiceNo').count()\n",
    "num_items_in_order.columns = ['Count']\n",
    "num_items_in_order"
   ]
  },
  {
   "cell_type": "code",
   "execution_count": 191,
   "id": "e66c1ed0",
   "metadata": {},
   "outputs": [
    {
     "data": {
      "text/plain": [
       "0"
      ]
     },
     "execution_count": 191,
     "metadata": {},
     "output_type": "execute_result"
    }
   ],
   "source": [
    "len(num_items_in_order[num_items_in_order['Count'] > 1])"
   ]
  },
  {
   "cell_type": "markdown",
   "id": "e8f2dbf3",
   "metadata": {},
   "source": [
    "There are 20k orders with more than one product.  That is about 80% of all orders.  People in this store often buy items together.  We are going to help new customers out by showing them which products are commonly purchased together."
   ]
  },
  {
   "cell_type": "markdown",
   "id": "752489ba",
   "metadata": {},
   "source": [
    "# Restructure the data\n",
    "We would like each Invoice Number to give us a list of stock codes."
   ]
  },
  {
   "cell_type": "code",
   "execution_count": 102,
   "id": "e7f06af5",
   "metadata": {},
   "outputs": [
    {
     "data": {
      "text/html": [
       "<div>\n",
       "<style scoped>\n",
       "    .dataframe tbody tr th:only-of-type {\n",
       "        vertical-align: middle;\n",
       "    }\n",
       "\n",
       "    .dataframe tbody tr th {\n",
       "        vertical-align: top;\n",
       "    }\n",
       "\n",
       "    .dataframe thead th {\n",
       "        text-align: right;\n",
       "    }\n",
       "</style>\n",
       "<table border=\"1\" class=\"dataframe\">\n",
       "  <thead>\n",
       "    <tr style=\"text-align: right;\">\n",
       "      <th></th>\n",
       "      <th>InvoiceNo</th>\n",
       "      <th>StockCode</th>\n",
       "    </tr>\n",
       "  </thead>\n",
       "  <tbody>\n",
       "    <tr>\n",
       "      <th>0</th>\n",
       "      <td>536365</td>\n",
       "      <td>[_85123A, _71053, _84406B, _84029G, _84029E, _...</td>\n",
       "    </tr>\n",
       "    <tr>\n",
       "      <th>1</th>\n",
       "      <td>536366</td>\n",
       "      <td>[_22633, _22632]</td>\n",
       "    </tr>\n",
       "    <tr>\n",
       "      <th>2</th>\n",
       "      <td>536367</td>\n",
       "      <td>[_84879, _22745, _22748, _22749, _22310, _8496...</td>\n",
       "    </tr>\n",
       "    <tr>\n",
       "      <th>3</th>\n",
       "      <td>536368</td>\n",
       "      <td>[_22960, _22913, _22912, _22914]</td>\n",
       "    </tr>\n",
       "    <tr>\n",
       "      <th>4</th>\n",
       "      <td>536369</td>\n",
       "      <td>[_21756]</td>\n",
       "    </tr>\n",
       "  </tbody>\n",
       "</table>\n",
       "</div>"
      ],
      "text/plain": [
       "  InvoiceNo                                          StockCode\n",
       "0    536365  [_85123A, _71053, _84406B, _84029G, _84029E, _...\n",
       "1    536366                                   [_22633, _22632]\n",
       "2    536367  [_84879, _22745, _22748, _22749, _22310, _8496...\n",
       "3    536368                   [_22960, _22913, _22912, _22914]\n",
       "4    536369                                           [_21756]"
      ]
     },
     "execution_count": 102,
     "metadata": {},
     "output_type": "execute_result"
    }
   ],
   "source": [
    "def string_list(x):\n",
    "    return [str(i) for i in x]\n",
    "\n",
    "orders = orders.groupby('InvoiceNo')['StockCode'].apply(list).reset_index()\n",
    "orders.head()"
   ]
  },
  {
   "cell_type": "code",
   "execution_count": 27,
   "id": "1dd09071",
   "metadata": {},
   "outputs": [
    {
     "name": "stdout",
     "output_type": "stream",
     "text": [
      "<class 'pandas.core.frame.DataFrame'>\n",
      "RangeIndex: 25900 entries, 0 to 25899\n",
      "Data columns (total 2 columns):\n",
      " #   Column     Non-Null Count  Dtype \n",
      "---  ------     --------------  ----- \n",
      " 0   InvoiceNo  25900 non-null  object\n",
      " 1   StockCode  25900 non-null  object\n",
      "dtypes: object(2)\n",
      "memory usage: 404.8+ KB\n"
     ]
    }
   ],
   "source": [
    "orders.info()"
   ]
  },
  {
   "cell_type": "code",
   "execution_count": 49,
   "id": "81e078dc",
   "metadata": {},
   "outputs": [
    {
     "name": "stdout",
     "output_type": "stream",
     "text": [
      "<class 'str'>\n",
      "<class 'str'>\n",
      "<class 'str'>\n",
      "<class 'str'>\n",
      "<class 'str'>\n",
      "<class 'str'>\n"
     ]
    }
   ],
   "source": [
    "for item in orders['StockCode'][0]:\n",
    "    print(type(item))"
   ]
  },
  {
   "cell_type": "code",
   "execution_count": 103,
   "id": "21ac0f0e",
   "metadata": {},
   "outputs": [],
   "source": [
    "from mlxtend.preprocessing import TransactionEncoder"
   ]
  },
  {
   "cell_type": "code",
   "execution_count": 248,
   "id": "de9cb40c",
   "metadata": {},
   "outputs": [],
   "source": [
    "te = TransactionEncoder()\n",
    "\n",
    "te.fit(orders['StockCode'])\n",
    "orders_1hot = te.transform(orders['StockCode'])\n"
   ]
  },
  {
   "cell_type": "code",
   "execution_count": 251,
   "id": "d1ca0385",
   "metadata": {},
   "outputs": [
    {
     "data": {
      "text/html": [
       "<div>\n",
       "<style scoped>\n",
       "    .dataframe tbody tr th:only-of-type {\n",
       "        vertical-align: middle;\n",
       "    }\n",
       "\n",
       "    .dataframe tbody tr th {\n",
       "        vertical-align: top;\n",
       "    }\n",
       "\n",
       "    .dataframe thead th {\n",
       "        text-align: right;\n",
       "    }\n",
       "</style>\n",
       "<table border=\"1\" class=\"dataframe\">\n",
       "  <thead>\n",
       "    <tr style=\"text-align: right;\">\n",
       "      <th></th>\n",
       "      <th>_10002</th>\n",
       "      <th>_10080</th>\n",
       "      <th>_10120</th>\n",
       "      <th>_10123C</th>\n",
       "      <th>_10123G</th>\n",
       "      <th>_10124A</th>\n",
       "      <th>_10124G</th>\n",
       "      <th>_10125</th>\n",
       "      <th>_10133</th>\n",
       "      <th>_10134</th>\n",
       "      <th>...</th>\n",
       "      <th>_M</th>\n",
       "      <th>_PADS</th>\n",
       "      <th>_POST</th>\n",
       "      <th>_S</th>\n",
       "      <th>_gift_0001_10</th>\n",
       "      <th>_gift_0001_20</th>\n",
       "      <th>_gift_0001_30</th>\n",
       "      <th>_gift_0001_40</th>\n",
       "      <th>_gift_0001_50</th>\n",
       "      <th>_m</th>\n",
       "    </tr>\n",
       "  </thead>\n",
       "  <tbody>\n",
       "    <tr>\n",
       "      <th>0</th>\n",
       "      <td>False</td>\n",
       "      <td>False</td>\n",
       "      <td>False</td>\n",
       "      <td>False</td>\n",
       "      <td>False</td>\n",
       "      <td>False</td>\n",
       "      <td>False</td>\n",
       "      <td>False</td>\n",
       "      <td>False</td>\n",
       "      <td>False</td>\n",
       "      <td>...</td>\n",
       "      <td>False</td>\n",
       "      <td>False</td>\n",
       "      <td>False</td>\n",
       "      <td>False</td>\n",
       "      <td>False</td>\n",
       "      <td>False</td>\n",
       "      <td>False</td>\n",
       "      <td>False</td>\n",
       "      <td>False</td>\n",
       "      <td>False</td>\n",
       "    </tr>\n",
       "    <tr>\n",
       "      <th>1</th>\n",
       "      <td>False</td>\n",
       "      <td>False</td>\n",
       "      <td>False</td>\n",
       "      <td>False</td>\n",
       "      <td>False</td>\n",
       "      <td>False</td>\n",
       "      <td>False</td>\n",
       "      <td>False</td>\n",
       "      <td>False</td>\n",
       "      <td>False</td>\n",
       "      <td>...</td>\n",
       "      <td>False</td>\n",
       "      <td>False</td>\n",
       "      <td>False</td>\n",
       "      <td>False</td>\n",
       "      <td>False</td>\n",
       "      <td>False</td>\n",
       "      <td>False</td>\n",
       "      <td>False</td>\n",
       "      <td>False</td>\n",
       "      <td>False</td>\n",
       "    </tr>\n",
       "    <tr>\n",
       "      <th>2</th>\n",
       "      <td>False</td>\n",
       "      <td>False</td>\n",
       "      <td>False</td>\n",
       "      <td>False</td>\n",
       "      <td>False</td>\n",
       "      <td>False</td>\n",
       "      <td>False</td>\n",
       "      <td>False</td>\n",
       "      <td>False</td>\n",
       "      <td>False</td>\n",
       "      <td>...</td>\n",
       "      <td>False</td>\n",
       "      <td>False</td>\n",
       "      <td>False</td>\n",
       "      <td>False</td>\n",
       "      <td>False</td>\n",
       "      <td>False</td>\n",
       "      <td>False</td>\n",
       "      <td>False</td>\n",
       "      <td>False</td>\n",
       "      <td>False</td>\n",
       "    </tr>\n",
       "    <tr>\n",
       "      <th>3</th>\n",
       "      <td>False</td>\n",
       "      <td>False</td>\n",
       "      <td>False</td>\n",
       "      <td>False</td>\n",
       "      <td>False</td>\n",
       "      <td>False</td>\n",
       "      <td>False</td>\n",
       "      <td>False</td>\n",
       "      <td>False</td>\n",
       "      <td>False</td>\n",
       "      <td>...</td>\n",
       "      <td>False</td>\n",
       "      <td>False</td>\n",
       "      <td>False</td>\n",
       "      <td>False</td>\n",
       "      <td>False</td>\n",
       "      <td>False</td>\n",
       "      <td>False</td>\n",
       "      <td>False</td>\n",
       "      <td>False</td>\n",
       "      <td>False</td>\n",
       "    </tr>\n",
       "    <tr>\n",
       "      <th>4</th>\n",
       "      <td>False</td>\n",
       "      <td>False</td>\n",
       "      <td>False</td>\n",
       "      <td>False</td>\n",
       "      <td>False</td>\n",
       "      <td>False</td>\n",
       "      <td>False</td>\n",
       "      <td>False</td>\n",
       "      <td>False</td>\n",
       "      <td>False</td>\n",
       "      <td>...</td>\n",
       "      <td>False</td>\n",
       "      <td>False</td>\n",
       "      <td>False</td>\n",
       "      <td>False</td>\n",
       "      <td>False</td>\n",
       "      <td>False</td>\n",
       "      <td>False</td>\n",
       "      <td>False</td>\n",
       "      <td>False</td>\n",
       "      <td>False</td>\n",
       "    </tr>\n",
       "  </tbody>\n",
       "</table>\n",
       "<p>5 rows × 4070 columns</p>\n",
       "</div>"
      ],
      "text/plain": [
       "   _10002  _10080  _10120  _10123C  _10123G  _10124A  _10124G  _10125  _10133  \\\n",
       "0   False   False   False    False    False    False    False   False   False   \n",
       "1   False   False   False    False    False    False    False   False   False   \n",
       "2   False   False   False    False    False    False    False   False   False   \n",
       "3   False   False   False    False    False    False    False   False   False   \n",
       "4   False   False   False    False    False    False    False   False   False   \n",
       "\n",
       "   _10134  ...     _M  _PADS  _POST     _S  _gift_0001_10  _gift_0001_20  \\\n",
       "0   False  ...  False  False  False  False          False          False   \n",
       "1   False  ...  False  False  False  False          False          False   \n",
       "2   False  ...  False  False  False  False          False          False   \n",
       "3   False  ...  False  False  False  False          False          False   \n",
       "4   False  ...  False  False  False  False          False          False   \n",
       "\n",
       "   _gift_0001_30  _gift_0001_40  _gift_0001_50     _m  \n",
       "0          False          False          False  False  \n",
       "1          False          False          False  False  \n",
       "2          False          False          False  False  \n",
       "3          False          False          False  False  \n",
       "4          False          False          False  False  \n",
       "\n",
       "[5 rows x 4070 columns]"
      ]
     },
     "execution_count": 251,
     "metadata": {},
     "output_type": "execute_result"
    }
   ],
   "source": [
    "orders_1hot = pd.DataFrame(orders_1hot, columns =te.columns_)\n",
    "orders_1hot.head()"
   ]
  },
  {
   "cell_type": "markdown",
   "id": "ea7c1bf2",
   "metadata": {},
   "source": [
    "# Apriori"
   ]
  },
  {
   "cell_type": "code",
   "execution_count": null,
   "id": "945b7aae",
   "metadata": {},
   "outputs": [],
   "source": [
    "from mlxtend.frequent_patterns import apriori"
   ]
  },
  {
   "cell_type": "code",
   "execution_count": 196,
   "id": "0081f5a9",
   "metadata": {},
   "outputs": [
    {
     "name": "stdout",
     "output_type": "stream",
     "text": [
      "2min 52s ± 0 ns per loop (mean ± std. dev. of 1 run, 1 loop each)\n"
     ]
    }
   ],
   "source": [
    "%%timeit -n1 -r1\n",
    "\n",
    "apriori(orders_1hot, min_support=0.01, use_colnames=True)"
   ]
  },
  {
   "cell_type": "code",
   "execution_count": 277,
   "id": "5617180e",
   "metadata": {},
   "outputs": [],
   "source": [
    "is_ap = apriori(orders_1hot, min_support=0.01, use_colnames=True)"
   ]
  },
  {
   "cell_type": "code",
   "execution_count": 278,
   "id": "3c7d3147",
   "metadata": {},
   "outputs": [
    {
     "data": {
      "text/html": [
       "<div>\n",
       "<style scoped>\n",
       "    .dataframe tbody tr th:only-of-type {\n",
       "        vertical-align: middle;\n",
       "    }\n",
       "\n",
       "    .dataframe tbody tr th {\n",
       "        vertical-align: top;\n",
       "    }\n",
       "\n",
       "    .dataframe thead th {\n",
       "        text-align: right;\n",
       "    }\n",
       "</style>\n",
       "<table border=\"1\" class=\"dataframe\">\n",
       "  <thead>\n",
       "    <tr style=\"text-align: right;\">\n",
       "      <th></th>\n",
       "      <th>support</th>\n",
       "      <th>itemsets</th>\n",
       "    </tr>\n",
       "  </thead>\n",
       "  <tbody>\n",
       "    <tr>\n",
       "      <th>0</th>\n",
       "      <td>0.020193</td>\n",
       "      <td>(_15036)</td>\n",
       "    </tr>\n",
       "    <tr>\n",
       "      <th>1</th>\n",
       "      <td>0.012587</td>\n",
       "      <td>(_15056BL)</td>\n",
       "    </tr>\n",
       "    <tr>\n",
       "      <th>2</th>\n",
       "      <td>0.017876</td>\n",
       "      <td>(_15056N)</td>\n",
       "    </tr>\n",
       "    <tr>\n",
       "      <th>3</th>\n",
       "      <td>0.011236</td>\n",
       "      <td>(_16237)</td>\n",
       "    </tr>\n",
       "    <tr>\n",
       "      <th>4</th>\n",
       "      <td>0.012510</td>\n",
       "      <td>(_20675)</td>\n",
       "    </tr>\n",
       "  </tbody>\n",
       "</table>\n",
       "</div>"
      ],
      "text/plain": [
       "    support    itemsets\n",
       "0  0.020193    (_15036)\n",
       "1  0.012587  (_15056BL)\n",
       "2  0.017876   (_15056N)\n",
       "3  0.011236    (_16237)\n",
       "4  0.012510    (_20675)"
      ]
     },
     "execution_count": 278,
     "metadata": {},
     "output_type": "execute_result"
    }
   ],
   "source": [
    "is_ap.head()"
   ]
  },
  {
   "cell_type": "code",
   "execution_count": 279,
   "id": "d894af55",
   "metadata": {},
   "outputs": [
    {
     "data": {
      "text/plain": [
       "'_15036'"
      ]
     },
     "execution_count": 279,
     "metadata": {},
     "output_type": "execute_result"
    }
   ],
   "source": [
    "def itemset_to_ordered_string(itemset):\n",
    "    return ','.join(sorted(list(itemset)))\n",
    "\n",
    "itemset_to_ordered_string(is_ap['itemsets'][0])"
   ]
  },
  {
   "cell_type": "code",
   "execution_count": 295,
   "id": "ddc8459e",
   "metadata": {},
   "outputs": [
    {
     "data": {
      "text/plain": [
       "0         _15036\n",
       "1       _15056BL\n",
       "2        _15056N\n",
       "3         _16237\n",
       "4         _20675\n",
       "          ...   \n",
       "1082      _85152\n",
       "1083     _85199S\n",
       "1084        _DOT\n",
       "1085          _M\n",
       "1086       _POST\n",
       "Name: itemsets, Length: 1087, dtype: object"
      ]
     },
     "execution_count": 295,
     "metadata": {},
     "output_type": "execute_result"
    }
   ],
   "source": [
    "ap_itemset_strings = is_ap['itemsets'].apply(itemset_to_ordered_string)\n",
    "ap_itemset_strings = ap_itemset_strings.sort_values().reset_index(drop=True)\n",
    "ap_itemset_strings"
   ]
  },
  {
   "cell_type": "code",
   "execution_count": null,
   "id": "3fc5c937",
   "metadata": {},
   "outputs": [],
   "source": [
    "from mlxtend.frequent_patterns import fpgrowth"
   ]
  },
  {
   "cell_type": "code",
   "execution_count": 229,
   "id": "d36029c0",
   "metadata": {},
   "outputs": [
    {
     "name": "stdout",
     "output_type": "stream",
     "text": [
      "5.43 s ± 0 ns per loop (mean ± std. dev. of 1 run, 1 loop each)\n"
     ]
    }
   ],
   "source": [
    "%%timeit -n1 -r1\n",
    "\n",
    "frequent_itemsets = fpgrowth(df_ary, min_support=0.01, use_colnames=True)#, max_len=2)"
   ]
  },
  {
   "cell_type": "code",
   "execution_count": 270,
   "id": "1ce142d7",
   "metadata": {},
   "outputs": [],
   "source": [
    "is_fp = fpgrowth(df_ary, min_support=0.01, use_colnames=True)#, max_len=2)"
   ]
  },
  {
   "cell_type": "code",
   "execution_count": 294,
   "id": "59f88e32",
   "metadata": {},
   "outputs": [
    {
     "data": {
      "text/plain": [
       "0         _15036\n",
       "1       _15056BL\n",
       "2        _15056N\n",
       "3         _16237\n",
       "4         _20675\n",
       "          ...   \n",
       "1082      _85152\n",
       "1083     _85199S\n",
       "1084        _DOT\n",
       "1085          _M\n",
       "1086       _POST\n",
       "Name: itemsets, Length: 1087, dtype: object"
      ]
     },
     "execution_count": 294,
     "metadata": {},
     "output_type": "execute_result"
    }
   ],
   "source": [
    "fp_itemset_strings = is_fp['itemsets'].apply(itemset_to_ordered_string)\n",
    "fp_itemset_strings = fp_itemset_strings.sort_values().reset_index(drop=True)\n",
    "fp_itemset_strings"
   ]
  },
  {
   "cell_type": "code",
   "execution_count": 296,
   "id": "025332dc",
   "metadata": {},
   "outputs": [
    {
     "data": {
      "text/plain": [
       "True"
      ]
     },
     "execution_count": 296,
     "metadata": {},
     "output_type": "execute_result"
    }
   ],
   "source": [
    "fp_itemset_strings.equals(ap_itemset_strings)"
   ]
  },
  {
   "cell_type": "code",
   "execution_count": null,
   "id": "f244900f",
   "metadata": {},
   "outputs": [],
   "source": [
    "# try sorting the sets to see if they are the same."
   ]
  },
  {
   "cell_type": "markdown",
   "id": "2d10ac8d",
   "metadata": {},
   "source": [
    "# Calculate Association Rules"
   ]
  },
  {
   "cell_type": "code",
   "execution_count": null,
   "id": "c7342fad",
   "metadata": {},
   "outputs": [],
   "source": [
    "from mlxtend.frequent_patterns import association_rules"
   ]
  },
  {
   "cell_type": "code",
   "execution_count": 299,
   "id": "f5afee13",
   "metadata": {},
   "outputs": [
    {
     "data": {
      "text/html": [
       "<div>\n",
       "<style scoped>\n",
       "    .dataframe tbody tr th:only-of-type {\n",
       "        vertical-align: middle;\n",
       "    }\n",
       "\n",
       "    .dataframe tbody tr th {\n",
       "        vertical-align: top;\n",
       "    }\n",
       "\n",
       "    .dataframe thead th {\n",
       "        text-align: right;\n",
       "    }\n",
       "</style>\n",
       "<table border=\"1\" class=\"dataframe\">\n",
       "  <thead>\n",
       "    <tr style=\"text-align: right;\">\n",
       "      <th></th>\n",
       "      <th>antecedents</th>\n",
       "      <th>consequents</th>\n",
       "      <th>antecedent support</th>\n",
       "      <th>consequent support</th>\n",
       "      <th>support</th>\n",
       "      <th>confidence</th>\n",
       "      <th>lift</th>\n",
       "      <th>leverage</th>\n",
       "      <th>conviction</th>\n",
       "    </tr>\n",
       "  </thead>\n",
       "  <tbody>\n",
       "    <tr>\n",
       "      <th>0</th>\n",
       "      <td>(_84879)</td>\n",
       "      <td>(_85123A)</td>\n",
       "      <td>0.056680</td>\n",
       "      <td>0.086718</td>\n",
       "      <td>0.012510</td>\n",
       "      <td>0.220708</td>\n",
       "      <td>2.545124</td>\n",
       "      <td>0.007595</td>\n",
       "      <td>1.171939</td>\n",
       "    </tr>\n",
       "    <tr>\n",
       "      <th>1</th>\n",
       "      <td>(_85123A)</td>\n",
       "      <td>(_84879)</td>\n",
       "      <td>0.086718</td>\n",
       "      <td>0.056680</td>\n",
       "      <td>0.012510</td>\n",
       "      <td>0.144256</td>\n",
       "      <td>2.545124</td>\n",
       "      <td>0.007595</td>\n",
       "      <td>1.102340</td>\n",
       "    </tr>\n",
       "    <tr>\n",
       "      <th>2</th>\n",
       "      <td>(_84879)</td>\n",
       "      <td>(_22423)</td>\n",
       "      <td>0.056680</td>\n",
       "      <td>0.083861</td>\n",
       "      <td>0.010425</td>\n",
       "      <td>0.183924</td>\n",
       "      <td>2.193197</td>\n",
       "      <td>0.005672</td>\n",
       "      <td>1.122614</td>\n",
       "    </tr>\n",
       "    <tr>\n",
       "      <th>3</th>\n",
       "      <td>(_22423)</td>\n",
       "      <td>(_84879)</td>\n",
       "      <td>0.083861</td>\n",
       "      <td>0.056680</td>\n",
       "      <td>0.010425</td>\n",
       "      <td>0.124309</td>\n",
       "      <td>2.193197</td>\n",
       "      <td>0.005672</td>\n",
       "      <td>1.077230</td>\n",
       "    </tr>\n",
       "    <tr>\n",
       "      <th>4</th>\n",
       "      <td>(_21755)</td>\n",
       "      <td>(_21754)</td>\n",
       "      <td>0.024363</td>\n",
       "      <td>0.030386</td>\n",
       "      <td>0.011467</td>\n",
       "      <td>0.470681</td>\n",
       "      <td>15.490025</td>\n",
       "      <td>0.010727</td>\n",
       "      <td>1.831815</td>\n",
       "    </tr>\n",
       "    <tr>\n",
       "      <th>...</th>\n",
       "      <td>...</td>\n",
       "      <td>...</td>\n",
       "      <td>...</td>\n",
       "      <td>...</td>\n",
       "      <td>...</td>\n",
       "      <td>...</td>\n",
       "      <td>...</td>\n",
       "      <td>...</td>\n",
       "      <td>...</td>\n",
       "    </tr>\n",
       "    <tr>\n",
       "      <th>1337</th>\n",
       "      <td>(_23293)</td>\n",
       "      <td>(_23295)</td>\n",
       "      <td>0.021506</td>\n",
       "      <td>0.017336</td>\n",
       "      <td>0.011853</td>\n",
       "      <td>0.551167</td>\n",
       "      <td>31.793373</td>\n",
       "      <td>0.011480</td>\n",
       "      <td>2.189376</td>\n",
       "    </tr>\n",
       "    <tr>\n",
       "      <th>1338</th>\n",
       "      <td>(_23296)</td>\n",
       "      <td>(_23293)</td>\n",
       "      <td>0.014826</td>\n",
       "      <td>0.021506</td>\n",
       "      <td>0.010077</td>\n",
       "      <td>0.679688</td>\n",
       "      <td>31.604859</td>\n",
       "      <td>0.009758</td>\n",
       "      <td>3.054811</td>\n",
       "    </tr>\n",
       "    <tr>\n",
       "      <th>1339</th>\n",
       "      <td>(_23293)</td>\n",
       "      <td>(_23296)</td>\n",
       "      <td>0.021506</td>\n",
       "      <td>0.014826</td>\n",
       "      <td>0.010077</td>\n",
       "      <td>0.468582</td>\n",
       "      <td>31.604859</td>\n",
       "      <td>0.009758</td>\n",
       "      <td>1.853857</td>\n",
       "    </tr>\n",
       "    <tr>\n",
       "      <th>1340</th>\n",
       "      <td>(_23355)</td>\n",
       "      <td>(_22112)</td>\n",
       "      <td>0.030502</td>\n",
       "      <td>0.033436</td>\n",
       "      <td>0.010463</td>\n",
       "      <td>0.343038</td>\n",
       "      <td>10.259450</td>\n",
       "      <td>0.009443</td>\n",
       "      <td>1.471263</td>\n",
       "    </tr>\n",
       "    <tr>\n",
       "      <th>1341</th>\n",
       "      <td>(_22112)</td>\n",
       "      <td>(_23355)</td>\n",
       "      <td>0.033436</td>\n",
       "      <td>0.030502</td>\n",
       "      <td>0.010463</td>\n",
       "      <td>0.312933</td>\n",
       "      <td>10.259450</td>\n",
       "      <td>0.009443</td>\n",
       "      <td>1.411068</td>\n",
       "    </tr>\n",
       "  </tbody>\n",
       "</table>\n",
       "<p>1342 rows × 9 columns</p>\n",
       "</div>"
      ],
      "text/plain": [
       "     antecedents consequents  antecedent support  consequent support  \\\n",
       "0       (_84879)   (_85123A)            0.056680            0.086718   \n",
       "1      (_85123A)    (_84879)            0.086718            0.056680   \n",
       "2       (_84879)    (_22423)            0.056680            0.083861   \n",
       "3       (_22423)    (_84879)            0.083861            0.056680   \n",
       "4       (_21755)    (_21754)            0.024363            0.030386   \n",
       "...          ...         ...                 ...                 ...   \n",
       "1337    (_23293)    (_23295)            0.021506            0.017336   \n",
       "1338    (_23296)    (_23293)            0.014826            0.021506   \n",
       "1339    (_23293)    (_23296)            0.021506            0.014826   \n",
       "1340    (_23355)    (_22112)            0.030502            0.033436   \n",
       "1341    (_22112)    (_23355)            0.033436            0.030502   \n",
       "\n",
       "       support  confidence       lift  leverage  conviction  \n",
       "0     0.012510    0.220708   2.545124  0.007595    1.171939  \n",
       "1     0.012510    0.144256   2.545124  0.007595    1.102340  \n",
       "2     0.010425    0.183924   2.193197  0.005672    1.122614  \n",
       "3     0.010425    0.124309   2.193197  0.005672    1.077230  \n",
       "4     0.011467    0.470681  15.490025  0.010727    1.831815  \n",
       "...        ...         ...        ...       ...         ...  \n",
       "1337  0.011853    0.551167  31.793373  0.011480    2.189376  \n",
       "1338  0.010077    0.679688  31.604859  0.009758    3.054811  \n",
       "1339  0.010077    0.468582  31.604859  0.009758    1.853857  \n",
       "1340  0.010463    0.343038  10.259450  0.009443    1.471263  \n",
       "1341  0.010463    0.312933  10.259450  0.009443    1.411068  \n",
       "\n",
       "[1342 rows x 9 columns]"
      ]
     },
     "execution_count": 299,
     "metadata": {},
     "output_type": "execute_result"
    }
   ],
   "source": [
    "association_rules(frequent_itemsets, metric=\"support\", min_threshold=0.01)"
   ]
  },
  {
   "cell_type": "code",
   "execution_count": 300,
   "id": "a4417a80",
   "metadata": {},
   "outputs": [
    {
     "data": {
      "text/html": [
       "<div>\n",
       "<style scoped>\n",
       "    .dataframe tbody tr th:only-of-type {\n",
       "        vertical-align: middle;\n",
       "    }\n",
       "\n",
       "    .dataframe tbody tr th {\n",
       "        vertical-align: top;\n",
       "    }\n",
       "\n",
       "    .dataframe thead th {\n",
       "        text-align: right;\n",
       "    }\n",
       "</style>\n",
       "<table border=\"1\" class=\"dataframe\">\n",
       "  <thead>\n",
       "    <tr style=\"text-align: right;\">\n",
       "      <th></th>\n",
       "      <th>antecedents</th>\n",
       "      <th>consequents</th>\n",
       "      <th>antecedent support</th>\n",
       "      <th>consequent support</th>\n",
       "      <th>support</th>\n",
       "      <th>confidence</th>\n",
       "      <th>lift</th>\n",
       "      <th>leverage</th>\n",
       "      <th>conviction</th>\n",
       "    </tr>\n",
       "  </thead>\n",
       "  <tbody>\n",
       "    <tr>\n",
       "      <th>0</th>\n",
       "      <td>(_22745)</td>\n",
       "      <td>(_22748)</td>\n",
       "      <td>0.016448</td>\n",
       "      <td>0.016988</td>\n",
       "      <td>0.012124</td>\n",
       "      <td>0.737089</td>\n",
       "      <td>43.387751</td>\n",
       "      <td>0.011844</td>\n",
       "      <td>3.738955</td>\n",
       "    </tr>\n",
       "    <tr>\n",
       "      <th>1</th>\n",
       "      <td>(_22748)</td>\n",
       "      <td>(_22745)</td>\n",
       "      <td>0.016988</td>\n",
       "      <td>0.016448</td>\n",
       "      <td>0.012124</td>\n",
       "      <td>0.713636</td>\n",
       "      <td>43.387751</td>\n",
       "      <td>0.011844</td>\n",
       "      <td>3.434626</td>\n",
       "    </tr>\n",
       "    <tr>\n",
       "      <th>2</th>\n",
       "      <td>(_22726)</td>\n",
       "      <td>(_22727)</td>\n",
       "      <td>0.038726</td>\n",
       "      <td>0.041737</td>\n",
       "      <td>0.024942</td>\n",
       "      <td>0.644068</td>\n",
       "      <td>15.431412</td>\n",
       "      <td>0.023326</td>\n",
       "      <td>2.692261</td>\n",
       "    </tr>\n",
       "    <tr>\n",
       "      <th>3</th>\n",
       "      <td>(_22727)</td>\n",
       "      <td>(_22726)</td>\n",
       "      <td>0.041737</td>\n",
       "      <td>0.038726</td>\n",
       "      <td>0.024942</td>\n",
       "      <td>0.597595</td>\n",
       "      <td>15.431412</td>\n",
       "      <td>0.023326</td>\n",
       "      <td>2.388821</td>\n",
       "    </tr>\n",
       "    <tr>\n",
       "      <th>4</th>\n",
       "      <td>(_22728)</td>\n",
       "      <td>(_22727)</td>\n",
       "      <td>0.030849</td>\n",
       "      <td>0.041737</td>\n",
       "      <td>0.018417</td>\n",
       "      <td>0.596996</td>\n",
       "      <td>14.303610</td>\n",
       "      <td>0.017129</td>\n",
       "      <td>2.377801</td>\n",
       "    </tr>\n",
       "    <tr>\n",
       "      <th>...</th>\n",
       "      <td>...</td>\n",
       "      <td>...</td>\n",
       "      <td>...</td>\n",
       "      <td>...</td>\n",
       "      <td>...</td>\n",
       "      <td>...</td>\n",
       "      <td>...</td>\n",
       "      <td>...</td>\n",
       "      <td>...</td>\n",
       "    </tr>\n",
       "    <tr>\n",
       "      <th>370</th>\n",
       "      <td>(_23322)</td>\n",
       "      <td>(_23321)</td>\n",
       "      <td>0.022124</td>\n",
       "      <td>0.024440</td>\n",
       "      <td>0.011544</td>\n",
       "      <td>0.521815</td>\n",
       "      <td>21.350725</td>\n",
       "      <td>0.011004</td>\n",
       "      <td>2.040131</td>\n",
       "    </tr>\n",
       "    <tr>\n",
       "      <th>371</th>\n",
       "      <td>(_23343)</td>\n",
       "      <td>(_23344)</td>\n",
       "      <td>0.018842</td>\n",
       "      <td>0.027915</td>\n",
       "      <td>0.012510</td>\n",
       "      <td>0.663934</td>\n",
       "      <td>23.784096</td>\n",
       "      <td>0.011984</td>\n",
       "      <td>2.892545</td>\n",
       "    </tr>\n",
       "    <tr>\n",
       "      <th>372</th>\n",
       "      <td>(_23295)</td>\n",
       "      <td>(_23293)</td>\n",
       "      <td>0.017336</td>\n",
       "      <td>0.021506</td>\n",
       "      <td>0.011853</td>\n",
       "      <td>0.683742</td>\n",
       "      <td>31.793373</td>\n",
       "      <td>0.011480</td>\n",
       "      <td>3.093971</td>\n",
       "    </tr>\n",
       "    <tr>\n",
       "      <th>373</th>\n",
       "      <td>(_23293)</td>\n",
       "      <td>(_23295)</td>\n",
       "      <td>0.021506</td>\n",
       "      <td>0.017336</td>\n",
       "      <td>0.011853</td>\n",
       "      <td>0.551167</td>\n",
       "      <td>31.793373</td>\n",
       "      <td>0.011480</td>\n",
       "      <td>2.189376</td>\n",
       "    </tr>\n",
       "    <tr>\n",
       "      <th>374</th>\n",
       "      <td>(_23296)</td>\n",
       "      <td>(_23293)</td>\n",
       "      <td>0.014826</td>\n",
       "      <td>0.021506</td>\n",
       "      <td>0.010077</td>\n",
       "      <td>0.679688</td>\n",
       "      <td>31.604859</td>\n",
       "      <td>0.009758</td>\n",
       "      <td>3.054811</td>\n",
       "    </tr>\n",
       "  </tbody>\n",
       "</table>\n",
       "<p>375 rows × 9 columns</p>\n",
       "</div>"
      ],
      "text/plain": [
       "    antecedents consequents  antecedent support  consequent support   support  \\\n",
       "0      (_22745)    (_22748)            0.016448            0.016988  0.012124   \n",
       "1      (_22748)    (_22745)            0.016988            0.016448  0.012124   \n",
       "2      (_22726)    (_22727)            0.038726            0.041737  0.024942   \n",
       "3      (_22727)    (_22726)            0.041737            0.038726  0.024942   \n",
       "4      (_22728)    (_22727)            0.030849            0.041737  0.018417   \n",
       "..          ...         ...                 ...                 ...       ...   \n",
       "370    (_23322)    (_23321)            0.022124            0.024440  0.011544   \n",
       "371    (_23343)    (_23344)            0.018842            0.027915  0.012510   \n",
       "372    (_23295)    (_23293)            0.017336            0.021506  0.011853   \n",
       "373    (_23293)    (_23295)            0.021506            0.017336  0.011853   \n",
       "374    (_23296)    (_23293)            0.014826            0.021506  0.010077   \n",
       "\n",
       "     confidence       lift  leverage  conviction  \n",
       "0      0.737089  43.387751  0.011844    3.738955  \n",
       "1      0.713636  43.387751  0.011844    3.434626  \n",
       "2      0.644068  15.431412  0.023326    2.692261  \n",
       "3      0.597595  15.431412  0.023326    2.388821  \n",
       "4      0.596996  14.303610  0.017129    2.377801  \n",
       "..          ...        ...       ...         ...  \n",
       "370    0.521815  21.350725  0.011004    2.040131  \n",
       "371    0.663934  23.784096  0.011984    2.892545  \n",
       "372    0.683742  31.793373  0.011480    3.093971  \n",
       "373    0.551167  31.793373  0.011480    2.189376  \n",
       "374    0.679688  31.604859  0.009758    3.054811  \n",
       "\n",
       "[375 rows x 9 columns]"
      ]
     },
     "execution_count": 300,
     "metadata": {},
     "output_type": "execute_result"
    }
   ],
   "source": [
    "association_rules(frequent_itemsets, metric=\"confidence\", min_threshold=0.5)"
   ]
  },
  {
   "cell_type": "code",
   "execution_count": 358,
   "id": "37797615",
   "metadata": {},
   "outputs": [
    {
     "data": {
      "text/html": [
       "<div>\n",
       "<style scoped>\n",
       "    .dataframe tbody tr th:only-of-type {\n",
       "        vertical-align: middle;\n",
       "    }\n",
       "\n",
       "    .dataframe tbody tr th {\n",
       "        vertical-align: top;\n",
       "    }\n",
       "\n",
       "    .dataframe thead th {\n",
       "        text-align: right;\n",
       "    }\n",
       "</style>\n",
       "<table border=\"1\" class=\"dataframe\">\n",
       "  <thead>\n",
       "    <tr style=\"text-align: right;\">\n",
       "      <th></th>\n",
       "      <th>antecedents</th>\n",
       "      <th>consequents</th>\n",
       "      <th>antecedent support</th>\n",
       "      <th>consequent support</th>\n",
       "      <th>support</th>\n",
       "      <th>confidence</th>\n",
       "      <th>lift</th>\n",
       "      <th>leverage</th>\n",
       "      <th>conviction</th>\n",
       "    </tr>\n",
       "  </thead>\n",
       "  <tbody>\n",
       "    <tr>\n",
       "      <th>0</th>\n",
       "      <td>(_21755)</td>\n",
       "      <td>(_21754)</td>\n",
       "      <td>0.024363</td>\n",
       "      <td>0.030386</td>\n",
       "      <td>0.011467</td>\n",
       "      <td>0.470681</td>\n",
       "      <td>15.490025</td>\n",
       "      <td>0.010727</td>\n",
       "      <td>1.831815</td>\n",
       "    </tr>\n",
       "    <tr>\n",
       "      <th>1</th>\n",
       "      <td>(_21754)</td>\n",
       "      <td>(_21755)</td>\n",
       "      <td>0.030386</td>\n",
       "      <td>0.024363</td>\n",
       "      <td>0.011467</td>\n",
       "      <td>0.377382</td>\n",
       "      <td>15.490025</td>\n",
       "      <td>0.010727</td>\n",
       "      <td>1.566993</td>\n",
       "    </tr>\n",
       "    <tr>\n",
       "      <th>2</th>\n",
       "      <td>(_22745)</td>\n",
       "      <td>(_22748)</td>\n",
       "      <td>0.016448</td>\n",
       "      <td>0.016988</td>\n",
       "      <td>0.012124</td>\n",
       "      <td>0.737089</td>\n",
       "      <td>43.387751</td>\n",
       "      <td>0.011844</td>\n",
       "      <td>3.738955</td>\n",
       "    </tr>\n",
       "    <tr>\n",
       "      <th>3</th>\n",
       "      <td>(_22748)</td>\n",
       "      <td>(_22745)</td>\n",
       "      <td>0.016988</td>\n",
       "      <td>0.016448</td>\n",
       "      <td>0.012124</td>\n",
       "      <td>0.713636</td>\n",
       "      <td>43.387751</td>\n",
       "      <td>0.011844</td>\n",
       "      <td>3.434626</td>\n",
       "    </tr>\n",
       "    <tr>\n",
       "      <th>4</th>\n",
       "      <td>(_22726)</td>\n",
       "      <td>(_22727)</td>\n",
       "      <td>0.038726</td>\n",
       "      <td>0.041737</td>\n",
       "      <td>0.024942</td>\n",
       "      <td>0.644068</td>\n",
       "      <td>15.431412</td>\n",
       "      <td>0.023326</td>\n",
       "      <td>2.692261</td>\n",
       "    </tr>\n",
       "  </tbody>\n",
       "</table>\n",
       "</div>"
      ],
      "text/plain": [
       "  antecedents consequents  antecedent support  consequent support   support  \\\n",
       "0    (_21755)    (_21754)            0.024363            0.030386  0.011467   \n",
       "1    (_21754)    (_21755)            0.030386            0.024363  0.011467   \n",
       "2    (_22745)    (_22748)            0.016448            0.016988  0.012124   \n",
       "3    (_22748)    (_22745)            0.016988            0.016448  0.012124   \n",
       "4    (_22726)    (_22727)            0.038726            0.041737  0.024942   \n",
       "\n",
       "   confidence       lift  leverage  conviction  \n",
       "0    0.470681  15.490025  0.010727    1.831815  \n",
       "1    0.377382  15.490025  0.010727    1.566993  \n",
       "2    0.737089  43.387751  0.011844    3.738955  \n",
       "3    0.713636  43.387751  0.011844    3.434626  \n",
       "4    0.644068  15.431412  0.023326    2.692261  "
      ]
     },
     "execution_count": 358,
     "metadata": {},
     "output_type": "execute_result"
    }
   ],
   "source": [
    "rules = association_rules(frequent_itemsets, metric=\"lift\", min_threshold=10)\n",
    "rules.head()"
   ]
  },
  {
   "cell_type": "code",
   "execution_count": 359,
   "id": "dd332a78",
   "metadata": {},
   "outputs": [
    {
     "data": {
      "text/plain": [
       "(736, 9)"
      ]
     },
     "execution_count": 359,
     "metadata": {},
     "output_type": "execute_result"
    }
   ],
   "source": [
    "rules.shape"
   ]
  },
  {
   "cell_type": "code",
   "execution_count": 430,
   "id": "f6887102",
   "metadata": {},
   "outputs": [
    {
     "data": {
      "text/plain": [
       "(_20724)             13\n",
       "(_20725)             12\n",
       "(_20726)             12\n",
       "(_20723)             12\n",
       "(_20719)             12\n",
       "(_22384)             11\n",
       "(_85099B, _21931)    10\n",
       "(_22356)             10\n",
       "(_21928)              9\n",
       "(_22386, _85099B)     9\n",
       "Name: antecedents, dtype: int64"
      ]
     },
     "execution_count": 430,
     "metadata": {},
     "output_type": "execute_result"
    }
   ],
   "source": [
    "rules['antecedents'].value_counts()[10:20]"
   ]
  },
  {
   "cell_type": "code",
   "execution_count": 360,
   "id": "ec12f5ba",
   "metadata": {},
   "outputs": [
    {
     "data": {
      "text/plain": [
       "731    _23295\n",
       "733    _23296\n",
       "Name: consequents, dtype: object"
      ]
     },
     "execution_count": 360,
     "metadata": {},
     "output_type": "execute_result"
    }
   ],
   "source": [
    "# recomendations for (_84879)\n",
    "recs = ar[ar['antecedents'] == {'_23293'}].consequents.apply(lambda x: next(iter(x)))\n",
    "recs"
   ]
  },
  {
   "cell_type": "code",
   "execution_count": 173,
   "id": "52ec77c0",
   "metadata": {},
   "outputs": [
    {
     "name": "stdout",
     "output_type": "stream",
     "text": [
      "Antecedent: SET OF 12 FAIRY CAKE BAKING CASES\n",
      "\n",
      "Recommendations:\n",
      "SET OF 12 MINI LOAF BAKING CASES\n",
      "SET OF 6 TEA TIME BAKING CASES\n"
     ]
    }
   ],
   "source": [
    "print('Antecedent:', products.loc['_23293'][0])\n",
    "\n",
    "print()\n",
    "print('Recommendations:')\n",
    "for _, rec in recs[:6].iteritems():\n",
    "    print(products.loc[rec][0])"
   ]
  },
  {
   "cell_type": "code",
   "execution_count": 398,
   "id": "a356a440",
   "metadata": {},
   "outputs": [],
   "source": [
    "def predict(antecedent, rules, max_results= 6):\n",
    "    \n",
    "    # get the rules for this antecedent\n",
    "    preds = rules[rules['antecedents'] == antecedent]\n",
    "    \n",
    "    # a messy way to convert a frozen set with one element to string\n",
    "    preds = preds['consequents'].apply(iter).apply(next)\n",
    "    \n",
    "    return preds[:max_results].reset_index(drop=True)"
   ]
  },
  {
   "cell_type": "code",
   "execution_count": 399,
   "id": "192f71d4",
   "metadata": {},
   "outputs": [
    {
     "data": {
      "text/plain": [
       "0    _20725\n",
       "1    _22383\n",
       "2    _22382\n",
       "3    _22382\n",
       "4    _22383\n",
       "5    _20725\n",
       "Name: consequents, dtype: object"
      ]
     },
     "execution_count": 399,
     "metadata": {},
     "output_type": "execute_result"
    }
   ],
   "source": [
    "preds = predict({'_20727'}, rules)\n",
    "preds"
   ]
  },
  {
   "cell_type": "code",
   "execution_count": 387,
   "id": "7372eb90",
   "metadata": {},
   "outputs": [],
   "source": [
    "# products = products.set_index('StockCode')"
   ]
  },
  {
   "cell_type": "code",
   "execution_count": 429,
   "id": "3b803aef",
   "metadata": {},
   "outputs": [
    {
     "name": "stdout",
     "output_type": "stream",
     "text": [
      "LUNCH BAG  BLACK SKULL.\n"
     ]
    }
   ],
   "source": [
    "print(products['_20727'])"
   ]
  },
  {
   "cell_type": "code",
   "execution_count": 428,
   "id": "77fd8189",
   "metadata": {},
   "outputs": [
    {
     "name": "stdout",
     "output_type": "stream",
     "text": [
      "LUNCH BAG RED RETROSPOT\n",
      "LUNCH BAG SUKI  DESIGN \n",
      "LUNCH BAG SPACEBOY DESIGN \n",
      "LUNCH BAG SPACEBOY DESIGN \n",
      "LUNCH BAG SUKI  DESIGN \n",
      "LUNCH BAG RED RETROSPOT\n"
     ]
    }
   ],
   "source": [
    "for stockid in preds:  \n",
    "    print(products[stockid])"
   ]
  },
  {
   "cell_type": "markdown",
   "id": "619b629a",
   "metadata": {},
   "source": [
    "Try another product."
   ]
  },
  {
   "cell_type": "code",
   "execution_count": 431,
   "id": "d1e83a81",
   "metadata": {},
   "outputs": [
    {
     "name": "stdout",
     "output_type": "stream",
     "text": [
      "JUMBO BAG SCANDINAVIAN PAISLEY\n"
     ]
    }
   ],
   "source": [
    "print(products['_21928'])"
   ]
  },
  {
   "cell_type": "code",
   "execution_count": 432,
   "id": "9515486f",
   "metadata": {},
   "outputs": [
    {
     "name": "stdout",
     "output_type": "stream",
     "text": [
      "JUMBO SHOPPER VINTAGE RED PAISLEY\n",
      "JUMBO  BAG BAROQUE BLACK WHITE\n",
      "JUMBO BAG WOODLAND ANIMALS\n",
      "JUMBO BAG PINK VINTAGE PAISLEY\n",
      "JUMBO SHOPPER VINTAGE RED PAISLEY\n",
      "JUMBO BAG PINK POLKADOT\n"
     ]
    }
   ],
   "source": [
    "# get the predictions\n",
    "preds = predict({'_21928'}, rules)\n",
    "\n",
    "# Display the descriptions of the predictions\n",
    "for stockid in preds:  \n",
    "    print(products[stockid])"
   ]
  },
  {
   "cell_type": "code",
   "execution_count": null,
   "id": "1bc3fe81",
   "metadata": {},
   "outputs": [],
   "source": []
  }
 ],
 "metadata": {
  "kernelspec": {
   "display_name": "Python [conda env:recommender]",
   "language": "python",
   "name": "conda-env-recommender-py"
  },
  "language_info": {
   "codemirror_mode": {
    "name": "ipython",
    "version": 3
   },
   "file_extension": ".py",
   "mimetype": "text/x-python",
   "name": "python",
   "nbconvert_exporter": "python",
   "pygments_lexer": "ipython3",
   "version": "3.9.5"
  },
  "toc": {
   "base_numbering": 1,
   "nav_menu": {},
   "number_sections": true,
   "sideBar": true,
   "skip_h1_title": false,
   "title_cell": "Table of Contents",
   "title_sidebar": "Contents",
   "toc_cell": false,
   "toc_position": {},
   "toc_section_display": true,
   "toc_window_display": false
  }
 },
 "nbformat": 4,
 "nbformat_minor": 5
}
